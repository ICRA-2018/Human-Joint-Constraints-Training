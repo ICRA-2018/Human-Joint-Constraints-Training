{
 "cells": [
  {
   "cell_type": "markdown",
   "metadata": {},
   "source": [
    "# Human-Joint-Constraints-Training\n",
    "Training procedure for ICRA 2018 paper https://arxiv.org/abs/1709.08685. For usage during physics simulations, see https://github.com/dartsim/dart/pull/1016.\n",
    "\n",
    "The Matlab procedure here depends on the database and code developed by Akhter and Black: http://poseprior.is.tue.mpg.de/.\n",
    "You will need to sign up an account there to access their database. After you do that, unzip their prior.zip file, and move all the files in the unzipped folder into the Human-Joint-Constraints-Training folder.\n",
    "\n",
    "In [demo.ipynb](demo.ipynb):\n",
    "* Run `toa_generate_random_pairs` to generate samples for training the range(validity) of left arm poses;\n",
    "* Run `tol_generate_random_pairs` to generate samples for training the range(validity) of left leg & foot poses;\n",
    "\n",
    "Neural-net training follows the standard process of feed-forward nets. There is an example python script  keras_leftarm_train.py using the Keras library for your reference."
   ]
  },
  {
   "cell_type": "code",
   "execution_count": null,
   "metadata": {},
   "outputs": [],
   "source": [
    "python3 keras_leftarm_train.py"
   ]
  }
 ],

 "metadata": {
  "kernelspec": {
   "display_name": "Bash",
   "language": "bash",
   "name": "bash"
  },
  "language_info": {
   "codemirror_mode": "shell",
   "file_extension": ".sh",
   "mimetype": "text/x-sh",
   "name": "bash"
  }
 },
 "nbformat": 4,
 "nbformat_minor": 2
}
