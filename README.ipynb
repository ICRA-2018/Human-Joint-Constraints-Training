{
 "cells": [
  {
   "cell_type": "markdown",
   "metadata": {},
   "source": [
    "# Human-Joint-Constraints-Training\n",
    "<a href=\"#roslab-run\"><img src=\"https://img.shields.io/badge/ROSLab-run-brightgreen.svg\"></a>\n",
    "\n",
    "Training procedure for ICRA 2018 paper https://arxiv.org/abs/1709.08685. For usage during physics simulations, see https://github.com/dartsim/dart/pull/1016.\n",
    "\n",
    "The Matlab procedure here depends on the database and code developed by Akhter and Black: http://poseprior.is.tue.mpg.de/.\n",
    "You will need to sign up an account there to access their database. After you do that, unzip their prior.zip file, and move all the files in the unzipped folder into the Human-Joint-Constraints-Training folder.\n",
    "\n",
    "Run toa_generate_random_pairs.m to generate samples for training the range(validity) of left arm poses; Run tol_generate_random_pairs.m to generate samples for training the range(validity) of left leg & foot poses;\n",
    "\n",
    "Neural-net training follows the standard process of feed-forward nets. There is an example python script keras_leftarm_train.py using the Keras library for your reference.\n",
    "\n",
    "# ROSLab Run\n",
    "\n",
    "## Prerequisites:\n",
    "* [Docker](https://www.docker.com/)\n",
    "* [nvidia-docker](https://github.com/nvidia/nvidia-docker/wiki/Installation-(version-2.0))\n",
    "* Tested on Ubuntu Linux 16.04, Docker version 18.06.1-ce, NVIDIA Driver version 410.48.\n",
    "\n",
    "## 1. Clone the repository and build ROSLab image:"
   ]
  },
  {
   "cell_type": "code",
   "execution_count": null,
   "metadata": {},
   "outputs": [],
   "source": [
    "git clone https://github.com/ICRA-2018/Human-Joint-Constraints-Training.git\n",
    "cd Human-Joint-Constraints-Training\n",
    "./roslab_build"
   ]
  },
  {
   "cell_type": "markdown",
   "metadata": {},
   "source": [
    "## 2. Launch ROSLab image:"
   ]
  },
  {
   "cell_type": "code",
   "execution_count": null,
   "metadata": {},
   "outputs": [],
   "source": [
    "./roslab_run"
   ]
  },
  {
   "cell_type": "markdown",
   "metadata": {},
   "source": [
    "## 3. Open JupyterLab in your browser:\n",
    "[http://localhost:8888/lab/tree/README.ipynb](http://localhost:8888/lab/tree/README.ipynb)\n",
    "\n",
    "## 4. Run in JupyterLab:\n",
    "\n",
    "Open the notebook [demo.ipynb](demo.ipynb) and run all the cells."
   ]
  }
 ],

 "metadata": {
  "kernelspec": {
   "display_name": "Bash",
   "language": "bash",
   "name": "bash"
  },
  "language_info": {
   "codemirror_mode": "shell",
   "file_extension": ".sh",
   "mimetype": "text/x-sh",
   "name": "bash"
  }
 },
 "nbformat": 4,
 "nbformat_minor": 2
}
