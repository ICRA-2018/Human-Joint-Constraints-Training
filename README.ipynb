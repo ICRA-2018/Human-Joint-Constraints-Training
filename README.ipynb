{
 "cells": [
  {
   "cell_type": "markdown",
   "metadata": {},
   "source": [
    "# Human-Joint-Constraints-Training\n",
    "\n",
    "Training procedure for ICRA 2018 paper https://arxiv.org/abs/1709.08685. For usage during physics simulations, see https://github.com/dartsim/dart/pull/1016.\n",
    "\n",
    "The Matlab procedure here depends on the database and code developed by Akhter and Black: http://poseprior.is.tue.mpg.de/.\n",
    "Their prior.zip file has been unzipped into the Human-Joint-Constraints-Training folder."
   ]
  },
  {
   "cell_type": "markdown",
   "metadata": {},
   "source": [
    "## How to run\n",
    "Open the notebook [demo.ipynb](demo.ipynb) and run all the cells."
   ]
  }
 ],
 "metadata": {
  "kernelspec": {
   "display_name": "Bash",
   "language": "bash",
   "name": "bash"
  },
  "language_info": {
   "codemirror_mode": "shell",
   "file_extension": ".sh",
   "mimetype": "text/x-sh",
   "name": "bash"
  }
 },
 "nbformat": 4,
 "nbformat_minor": 2
}

